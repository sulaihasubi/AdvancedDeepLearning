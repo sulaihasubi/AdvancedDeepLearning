{
  "nbformat": 4,
  "nbformat_minor": 0,
  "metadata": {
    "colab": {
      "name": "Content Analyst.ipynb",
      "provenance": [],
      "collapsed_sections": [],
      "toc_visible": true,
      "authorship_tag": "ABX9TyM7Bt7Re56d226/M+8APivf",
      "include_colab_link": true
    },
    "kernelspec": {
      "name": "python3",
      "display_name": "Python 3"
    }
  },
  "cells": [
    {
      "cell_type": "markdown",
      "metadata": {
        "id": "view-in-github",
        "colab_type": "text"
      },
      "source": [
        "<a href=\"https://colab.research.google.com/github/sulaihasubi/Content-Analyst/blob/main/Content_Analyst.ipynb\" target=\"_parent\"><img src=\"https://colab.research.google.com/assets/colab-badge.svg\" alt=\"Open In Colab\"/></a>"
      ]
    },
    {
      "cell_type": "markdown",
      "metadata": {
        "id": "Dd4vt9f98QRJ"
      },
      "source": [
        "# Exercise 1: URL Parsing"
      ]
    },
    {
      "cell_type": "markdown",
      "metadata": {
        "id": "ALkuGyNf_6xy"
      },
      "source": [
        "Questions 1-4: Parsing the URL to get the Top Level Domain (TLD), Domain, Hostname, Path"
      ]
    },
    {
      "cell_type": "code",
      "metadata": {
        "id": "4lk1XbGy_8z5",
        "colab": {
          "base_uri": "https://localhost:8080/",
          "height": 255
        },
        "outputId": "47e59277-dcad-4d67-95bf-5a2d08343d79"
      },
      "source": [
        "!pip install tldextract"
      ],
      "execution_count": null,
      "outputs": [
        {
          "output_type": "stream",
          "text": [
            "Collecting tldextract\n",
            "\u001b[?25l  Downloading https://files.pythonhosted.org/packages/12/cf/d0ff82625e53bd245d6173ce6333d190abbfcd94e4c30e54b4e16b474216/tldextract-2.2.3-py2.py3-none-any.whl (48kB)\n",
            "\r\u001b[K     |██████▊                         | 10kB 16.6MB/s eta 0:00:01\r\u001b[K     |█████████████▍                  | 20kB 1.7MB/s eta 0:00:01\r\u001b[K     |████████████████████            | 30kB 2.3MB/s eta 0:00:01\r\u001b[K     |██████████████████████████▊     | 40kB 2.6MB/s eta 0:00:01\r\u001b[K     |████████████████████████████████| 51kB 1.6MB/s \n",
            "\u001b[?25hCollecting requests-file>=1.4\n",
            "  Downloading https://files.pythonhosted.org/packages/77/86/cdb5e8eaed90796aa83a6d9f75cfbd37af553c47a291cd47bc410ef9bdb2/requests_file-1.5.1-py2.py3-none-any.whl\n",
            "Requirement already satisfied: requests>=2.1.0 in /usr/local/lib/python3.6/dist-packages (from tldextract) (2.23.0)\n",
            "Requirement already satisfied: idna in /usr/local/lib/python3.6/dist-packages (from tldextract) (2.10)\n",
            "Requirement already satisfied: six in /usr/local/lib/python3.6/dist-packages (from requests-file>=1.4->tldextract) (1.15.0)\n",
            "Requirement already satisfied: urllib3!=1.25.0,!=1.25.1,<1.26,>=1.21.1 in /usr/local/lib/python3.6/dist-packages (from requests>=2.1.0->tldextract) (1.24.3)\n",
            "Requirement already satisfied: chardet<4,>=3.0.2 in /usr/local/lib/python3.6/dist-packages (from requests>=2.1.0->tldextract) (3.0.4)\n",
            "Requirement already satisfied: certifi>=2017.4.17 in /usr/local/lib/python3.6/dist-packages (from requests>=2.1.0->tldextract) (2020.6.20)\n",
            "Installing collected packages: requests-file, tldextract\n",
            "Successfully installed requests-file-1.5.1 tldextract-2.2.3\n"
          ],
          "name": "stdout"
        }
      ]
    },
    {
      "cell_type": "code",
      "metadata": {
        "id": "uECP1mFvAmNl",
        "colab": {
          "base_uri": "https://localhost:8080/",
          "height": 121
        },
        "outputId": "8da87f16-1639-4255-ac70-f24ec5e43457"
      },
      "source": [
        "!pip install tld"
      ],
      "execution_count": null,
      "outputs": [
        {
          "output_type": "stream",
          "text": [
            "Collecting tld\n",
            "\u001b[?25l  Downloading https://files.pythonhosted.org/packages/3d/8f/32f3e61027495ce2822f32280178440e40bcf6038c8d66704d7caf4d3850/tld-0.12.2-py36-none-any.whl (329kB)\n",
            "\r\u001b[K     |█                               | 10kB 17.1MB/s eta 0:00:01\r\u001b[K     |██                              | 20kB 1.6MB/s eta 0:00:01\r\u001b[K     |███                             | 30kB 2.1MB/s eta 0:00:01\r\u001b[K     |████                            | 40kB 1.6MB/s eta 0:00:01\r\u001b[K     |█████                           | 51kB 1.9MB/s eta 0:00:01\r\u001b[K     |██████                          | 61kB 2.2MB/s eta 0:00:01\r\u001b[K     |███████                         | 71kB 2.4MB/s eta 0:00:01\r\u001b[K     |████████                        | 81kB 2.6MB/s eta 0:00:01\r\u001b[K     |█████████                       | 92kB 2.8MB/s eta 0:00:01\r\u001b[K     |██████████                      | 102kB 2.7MB/s eta 0:00:01\r\u001b[K     |███████████                     | 112kB 2.7MB/s eta 0:00:01\r\u001b[K     |████████████                    | 122kB 2.7MB/s eta 0:00:01\r\u001b[K     |█████████████                   | 133kB 2.7MB/s eta 0:00:01\r\u001b[K     |██████████████                  | 143kB 2.7MB/s eta 0:00:01\r\u001b[K     |███████████████                 | 153kB 2.7MB/s eta 0:00:01\r\u001b[K     |███████████████▉                | 163kB 2.7MB/s eta 0:00:01\r\u001b[K     |████████████████▉               | 174kB 2.7MB/s eta 0:00:01\r\u001b[K     |█████████████████▉              | 184kB 2.7MB/s eta 0:00:01\r\u001b[K     |██████████████████▉             | 194kB 2.7MB/s eta 0:00:01\r\u001b[K     |███████████████████▉            | 204kB 2.7MB/s eta 0:00:01\r\u001b[K     |████████████████████▉           | 215kB 2.7MB/s eta 0:00:01\r\u001b[K     |█████████████████████▉          | 225kB 2.7MB/s eta 0:00:01\r\u001b[K     |██████████████████████▉         | 235kB 2.7MB/s eta 0:00:01\r\u001b[K     |███████████████████████▉        | 245kB 2.7MB/s eta 0:00:01\r\u001b[K     |████████████████████████▉       | 256kB 2.7MB/s eta 0:00:01\r\u001b[K     |█████████████████████████▉      | 266kB 2.7MB/s eta 0:00:01\r\u001b[K     |██████████████████████████▉     | 276kB 2.7MB/s eta 0:00:01\r\u001b[K     |███████████████████████████▉    | 286kB 2.7MB/s eta 0:00:01\r\u001b[K     |████████████████████████████▉   | 296kB 2.7MB/s eta 0:00:01\r\u001b[K     |█████████████████████████████▉  | 307kB 2.7MB/s eta 0:00:01\r\u001b[K     |██████████████████████████████▉ | 317kB 2.7MB/s eta 0:00:01\r\u001b[K     |███████████████████████████████▊| 327kB 2.7MB/s eta 0:00:01\r\u001b[K     |████████████████████████████████| 337kB 2.7MB/s \n",
            "\u001b[?25hInstalling collected packages: tld\n",
            "Successfully installed tld-0.12.2\n"
          ],
          "name": "stdout"
        }
      ]
    },
    {
      "cell_type": "code",
      "metadata": {
        "id": "ocN80NhYArKM"
      },
      "source": [
        "from tld import get_tld"
      ],
      "execution_count": null,
      "outputs": []
    },
    {
      "cell_type": "code",
      "metadata": {
        "id": "yDcF4TJEESAU"
      },
      "source": [
        "res = get_tld(\"http://test.testdomain.org/xyz\" , as_object=True)"
      ],
      "execution_count": null,
      "outputs": []
    },
    {
      "cell_type": "code",
      "metadata": {
        "id": "uqCxdGBvFPou",
        "colab": {
          "base_uri": "https://localhost:8080/",
          "height": 35
        },
        "outputId": "c9781da6-64d0-4e24-b34d-05d9be644b71"
      },
      "source": [
        " res.tld #top level domain"
      ],
      "execution_count": null,
      "outputs": [
        {
          "output_type": "execute_result",
          "data": {
            "application/vnd.google.colaboratory.intrinsic+json": {
              "type": "string"
            },
            "text/plain": [
              "'org'"
            ]
          },
          "metadata": {
            "tags": []
          },
          "execution_count": 5
        }
      ]
    },
    {
      "cell_type": "code",
      "metadata": {
        "id": "V3lZuGylGL9-",
        "colab": {
          "base_uri": "https://localhost:8080/",
          "height": 35
        },
        "outputId": "87124556-a6c3-4189-b615-7c1d33d9272e"
      },
      "source": [
        "res.domain #domain"
      ],
      "execution_count": null,
      "outputs": [
        {
          "output_type": "execute_result",
          "data": {
            "application/vnd.google.colaboratory.intrinsic+json": {
              "type": "string"
            },
            "text/plain": [
              "'testdomain'"
            ]
          },
          "metadata": {
            "tags": []
          },
          "execution_count": 6
        }
      ]
    },
    {
      "cell_type": "code",
      "metadata": {
        "id": "FEJ2hrHQGNPv",
        "colab": {
          "base_uri": "https://localhost:8080/",
          "height": 34
        },
        "outputId": "85e91308-6720-4118-c752-5aa71169609f"
      },
      "source": [
        "res.parsed_url #parsing into scheme, hostname, path, query and fragments"
      ],
      "execution_count": null,
      "outputs": [
        {
          "output_type": "execute_result",
          "data": {
            "text/plain": [
              "SplitResult(scheme='http', netloc='test.testdomain.org', path='/xyz', query='', fragment='')"
            ]
          },
          "metadata": {
            "tags": []
          },
          "execution_count": 7
        }
      ]
    },
    {
      "cell_type": "markdown",
      "metadata": {
        "id": "k0LwreNxTEBA"
      },
      "source": [
        "Question 5: Extracting all website links"
      ]
    },
    {
      "cell_type": "code",
      "metadata": {
        "id": "2i1ojdcBUVPy",
        "colab": {
          "base_uri": "https://localhost:8080/",
          "height": 171
        },
        "outputId": "8fdfaeb4-1dd2-4069-ecd2-3400034b5e79"
      },
      "source": [
        "!python -m pip install -U pip"
      ],
      "execution_count": null,
      "outputs": [
        {
          "output_type": "stream",
          "text": [
            "Collecting pip\n",
            "\u001b[?25l  Downloading https://files.pythonhosted.org/packages/5a/4a/39400ff9b36e719bdf8f31c99fe1fa7842a42fa77432e584f707a5080063/pip-20.2.2-py2.py3-none-any.whl (1.5MB)\n",
            "\u001b[K     |████████████████████████████████| 1.5MB 2.8MB/s \n",
            "\u001b[?25hInstalling collected packages: pip\n",
            "  Found existing installation: pip 19.3.1\n",
            "    Uninstalling pip-19.3.1:\n",
            "      Successfully uninstalled pip-19.3.1\n",
            "Successfully installed pip-20.2.2\n"
          ],
          "name": "stdout"
        }
      ]
    },
    {
      "cell_type": "code",
      "metadata": {
        "id": "rSsO22zTVWZD"
      },
      "source": [
        "from bs4 import BeautifulSoup"
      ],
      "execution_count": null,
      "outputs": []
    },
    {
      "cell_type": "code",
      "metadata": {
        "id": "_bBZ-cHhVcDJ",
        "colab": {
          "base_uri": "https://localhost:8080/",
          "height": 202
        },
        "outputId": "32c4e036-331c-42bd-f2d7-50bf7bada0fb"
      },
      "source": [
        "!pip3 install requests bs4 colorama"
      ],
      "execution_count": null,
      "outputs": [
        {
          "output_type": "stream",
          "text": [
            "Requirement already satisfied: requests in /usr/local/lib/python3.6/dist-packages (2.23.0)\n",
            "Requirement already satisfied: bs4 in /usr/local/lib/python3.6/dist-packages (0.0.1)\n",
            "Collecting colorama\n",
            "  Downloading colorama-0.4.3-py2.py3-none-any.whl (15 kB)\n",
            "Requirement already satisfied: certifi>=2017.4.17 in /usr/local/lib/python3.6/dist-packages (from requests) (2020.6.20)\n",
            "Requirement already satisfied: chardet<4,>=3.0.2 in /usr/local/lib/python3.6/dist-packages (from requests) (3.0.4)\n",
            "Requirement already satisfied: idna<3,>=2.5 in /usr/local/lib/python3.6/dist-packages (from requests) (2.10)\n",
            "Requirement already satisfied: urllib3!=1.25.0,!=1.25.1,<1.26,>=1.21.1 in /usr/local/lib/python3.6/dist-packages (from requests) (1.24.3)\n",
            "Requirement already satisfied: beautifulsoup4 in /usr/local/lib/python3.6/dist-packages (from bs4) (4.6.3)\n",
            "Installing collected packages: colorama\n",
            "Successfully installed colorama-0.4.3\n"
          ],
          "name": "stdout"
        }
      ]
    },
    {
      "cell_type": "code",
      "metadata": {
        "id": "laxIN-q7Vw9E"
      },
      "source": [
        ""
      ],
      "execution_count": null,
      "outputs": []
    }
  ]
}